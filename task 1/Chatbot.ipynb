{
 "cells": [
  {
   "cell_type": "code",
   "execution_count": 3,
   "metadata": {},
   "outputs": [
    {
     "name": "stdout",
     "output_type": "stream",
     "text": [
      "Hello! Ask me any question about our service.\n",
      "Chatbot: We accept credit cards, PayPal, and Apple Pay.\n",
      "Chatbot: You can track your order using the tracking link sent to your email.\n",
      "Chatbot: You can reach us via email at support@example.com or call our helpline.\n",
      "Chatbot: Goodbye!\n"
     ]
    }
   ],
   "source": [
    "import spacy\n",
    "from sklearn.feature_extraction.text import TfidfVectorizer\n",
    "from sklearn.metrics.pairwise import cosine_similarity\n",
    "\n",
    "# Load NLP model\n",
    "nlp = spacy.load(\"en_core_web_sm\")\n",
    "\n",
    "# Sample FAQs dataset\n",
    "faqs = {\n",
    "    \"What is your return policy?\": \"You can return any item within 30 days of purchase.\",\n",
    "    \"How do I track my order?\": \"You can track your order using the tracking link sent to your email.\",\n",
    "    \"What payment methods do you accept?\": \"We accept credit cards, PayPal, and Apple Pay.\",\n",
    "    \"How can I contact customer support?\": \"You can reach us via email at support@example.com or call our helpline.\",\n",
    "}\n",
    "\n",
    "# Prepare TF-IDF vectorizer\n",
    "vectorizer = TfidfVectorizer()\n",
    "faq_questions = list(faqs.keys())\n",
    "X = vectorizer.fit_transform(faq_questions)\n",
    "\n",
    "def get_answer(user_query):\n",
    "    \"\"\"Find the most relevant answer to the user query.\"\"\"\n",
    "    query_vec = vectorizer.transform([user_query])\n",
    "    similarities = cosine_similarity(query_vec, X).flatten()\n",
    "    best_match_idx = similarities.argmax()\n",
    "    \n",
    "    if similarities[best_match_idx] < 0.3:  # Threshold for relevance\n",
    "        return \"I'm sorry, I don't understand your question. Can you rephrase it?\"\n",
    "    \n",
    "    return faqs[faq_questions[best_match_idx]]\n",
    "\n",
    "# Run chatbot loop\n",
    "def chatbot():\n",
    "    print(\"Hello! Ask me any question about our service.\")\n",
    "    while True:\n",
    "        user_input = input(\"You: \")\n",
    "        if user_input.lower() in [\"exit\", \"quit\", \"bye\"]:\n",
    "            print(\"Chatbot: Goodbye!\")\n",
    "            break\n",
    "        response = get_answer(user_input)\n",
    "        print(\"Chatbot:\", response)\n",
    "\n",
    "if __name__ == \"__main__\":\n",
    "    chatbot()\n"
   ]
  }
 ],
 "metadata": {
  "kernelspec": {
   "display_name": "base",
   "language": "python",
   "name": "python3"
  },
  "language_info": {
   "codemirror_mode": {
    "name": "ipython",
    "version": 3
   },
   "file_extension": ".py",
   "mimetype": "text/x-python",
   "name": "python",
   "nbconvert_exporter": "python",
   "pygments_lexer": "ipython3",
   "version": "3.11.7"
  }
 },
 "nbformat": 4,
 "nbformat_minor": 2
}
